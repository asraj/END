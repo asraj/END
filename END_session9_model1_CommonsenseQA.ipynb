{
  "nbformat": 4,
  "nbformat_minor": 0,
  "metadata": {
    "colab": {
      "name": "END_session9_model1_CommonsenseQA.ipynb",
      "provenance": [],
      "authorship_tag": "ABX9TyPtzitgtwTbO9i3sBZ4LGIi",
      "include_colab_link": true
    },
    "kernelspec": {
      "name": "python3",
      "display_name": "Python 3"
    },
    "accelerator": "GPU"
  },
  "cells": [
    {
      "cell_type": "markdown",
      "metadata": {
        "id": "view-in-github",
        "colab_type": "text"
      },
      "source": [
        "<a href=\"https://colab.research.google.com/github/asraj/END/blob/main/END_session9_model1_CommonsenseQA.ipynb\" target=\"_parent\"><img src=\"https://colab.research.google.com/assets/colab-badge.svg\" alt=\"Open In Colab\"/></a>"
      ]
    },
    {
      "cell_type": "markdown",
      "metadata": {
        "id": "yi8zQGUvIKCJ"
      },
      "source": [
        "CommonsenseQA is a set of multiple-choice question answer data that requires different types of common sense knowledge to predict the correct answers\r\n",
        "\r\n",
        "## **Data Preparation**\r\n",
        "The data is available as json file in Kaggle. The following code\r\n",
        "\r\n",
        "1) downloads the zip file from kaggle\r\n",
        "\r\n",
        "2) convert json file into dataframe\r\n",
        "\r\n",
        "3) get the answer text from the answer choice\r\n",
        "\r\n",
        "4) create separate columns for question and answer and save for future use"
      ]
    },
    {
      "cell_type": "code",
      "metadata": {
        "colab": {
          "base_uri": "https://localhost:8080/"
        },
        "id": "mfzqZSk5XoWY",
        "outputId": "03187d03-0a80-4b44-ca0c-b47bda70894e"
      },
      "source": [
        "from google.colab import drive\r\n",
        "drive.mount('/content/gdrive')"
      ],
      "execution_count": 16,
      "outputs": [
        {
          "output_type": "stream",
          "text": [
            "Drive already mounted at /content/gdrive; to attempt to forcibly remount, call drive.mount(\"/content/gdrive\", force_remount=True).\n"
          ],
          "name": "stdout"
        }
      ]
    },
    {
      "cell_type": "code",
      "metadata": {
        "colab": {
          "base_uri": "https://localhost:8080/"
        },
        "id": "W0uyHWSiXwgn",
        "outputId": "b73fcb39-162a-4b68-87b8-664431272950"
      },
      "source": [
        "!ls /content/gdrive/MyDrive/kaggle"
      ],
      "execution_count": 2,
      "outputs": [
        {
          "output_type": "stream",
          "text": [
            "kaggle.json  toc.csv\t    tut3-model.pt  tweets.tsv\n",
            "sample.csv   tut2-model.pt  twcs\t   Ubuntu-dialogue-corpus\n"
          ],
          "name": "stdout"
        }
      ]
    },
    {
      "cell_type": "code",
      "metadata": {
        "id": "1hFfRvHbYisa"
      },
      "source": [
        "import os\r\n",
        "os.environ['KAGGLE_CONFIG_DIR'] = \"/content/gdrive/My Drive/kaggle\"\r\n",
        "# /content/gdrive/My Drive/Kaggle is the path where kaggle.json is present in the Google Drive"
      ],
      "execution_count": 10,
      "outputs": []
    },
    {
      "cell_type": "code",
      "metadata": {
        "colab": {
          "base_uri": "https://localhost:8080/"
        },
        "id": "ctx7a5Vnc-I8",
        "outputId": "cf1b1d86-dcbb-4cc9-e703-68c3ddf9bbda"
      },
      "source": [
        "!pwd"
      ],
      "execution_count": 3,
      "outputs": [
        {
          "output_type": "stream",
          "text": [
            "/content\n"
          ],
          "name": "stdout"
        }
      ]
    },
    {
      "cell_type": "code",
      "metadata": {
        "colab": {
          "base_uri": "https://localhost:8080/"
        },
        "id": "6dcnUn5yoGFb",
        "outputId": "798173de-f233-4411-fea5-89bedf0e8473"
      },
      "source": [
        "!kaggle datasets download -d jeromeblanchet/commonsenseqa-nlp-dataset"
      ],
      "execution_count": 12,
      "outputs": [
        {
          "output_type": "stream",
          "text": [
            "Downloading commonsenseqa-nlp-dataset.zip to /content/gdrive/My Drive/kaggle\n",
            "\r  0% 0.00/2.05M [00:00<?, ?B/s]\n",
            "\r100% 2.05M/2.05M [00:00<00:00, 68.0MB/s]\n"
          ],
          "name": "stdout"
        }
      ]
    },
    {
      "cell_type": "code",
      "metadata": {
        "colab": {
          "base_uri": "https://localhost:8080/"
        },
        "id": "I14OukeHXpYd",
        "outputId": "20fade47-5b96-4fec-e305-d97422aad9b8"
      },
      "source": [
        "!ls"
      ],
      "execution_count": 13,
      "outputs": [
        {
          "output_type": "stream",
          "text": [
            "commonsenseqa-nlp-dataset.zip  toc.csv\t      twcs\n",
            "kaggle.json\t\t       tut2-model.pt  tweets.tsv\n",
            "sample.csv\t\t       tut3-model.pt  Ubuntu-dialogue-corpus\n"
          ],
          "name": "stdout"
        }
      ]
    },
    {
      "cell_type": "code",
      "metadata": {
        "colab": {
          "base_uri": "https://localhost:8080/"
        },
        "id": "_L9AEzNYpcvJ",
        "outputId": "2509ea4d-4e7f-4f19-a202-4d6e34e2c06a"
      },
      "source": [
        "!unzip \\*.zip  && rm *.zip"
      ],
      "execution_count": 14,
      "outputs": [
        {
          "output_type": "stream",
          "text": [
            "Archive:  commonsenseqa-nlp-dataset.zip\n",
            "  inflating: dev_rand_split.jsonl    \n",
            "  inflating: dev_rand_split_EASY.jsonl  \n",
            "  inflating: test_rand_split_no_answers.jsonl  \n",
            "  inflating: train_rand_split.jsonl  \n",
            "  inflating: train_rand_split_EASY.jsonl  \n"
          ],
          "name": "stdout"
        }
      ]
    },
    {
      "cell_type": "code",
      "metadata": {
        "colab": {
          "base_uri": "https://localhost:8080/"
        },
        "id": "YdQ0vhP7puRu",
        "outputId": "c63bf156-1ad9-46a4-b756-dc50ecef8ab8"
      },
      "source": [
        "!ls"
      ],
      "execution_count": 15,
      "outputs": [
        {
          "output_type": "stream",
          "text": [
            "dev_rand_split_EASY.jsonl\t  train_rand_split.jsonl\n",
            "dev_rand_split.jsonl\t\t  tut2-model.pt\n",
            "kaggle.json\t\t\t  tut3-model.pt\n",
            "sample.csv\t\t\t  twcs\n",
            "test_rand_split_no_answers.jsonl  tweets.tsv\n",
            "toc.csv\t\t\t\t  Ubuntu-dialogue-corpus\n",
            "train_rand_split_EASY.jsonl\n"
          ],
          "name": "stdout"
        }
      ]
    },
    {
      "cell_type": "code",
      "metadata": {
        "id": "zoHleSWBZS0W"
      },
      "source": [
        "import json\r\n",
        "import pandas as pd\r\n",
        "import numpy as np\r\n",
        "from pandas.io.json import json_normalize\r\n",
        "\r\n"
      ],
      "execution_count": 22,
      "outputs": []
    },
    {
      "cell_type": "code",
      "metadata": {
        "colab": {
          "base_uri": "https://localhost:8080/"
        },
        "id": "YA_zJ2BZZcb6",
        "outputId": "fa348df6-af3a-45b3-9f59-78cd0715be32"
      },
      "source": [
        "data = []\r\n",
        "with open('train_rand_split.jsonl', 'r') as f:\r\n",
        "    for line in f:\r\n",
        "        data.append(json.loads(line))\r\n",
        "    extracted_data = json_normalize(data)\r\n",
        "    extracted_data.columns = extracted_data.columns.map(lambda x: x.split(\".\")[-1])"
      ],
      "execution_count": 34,
      "outputs": [
        {
          "output_type": "stream",
          "text": [
            "/usr/local/lib/python3.6/dist-packages/ipykernel_launcher.py:5: FutureWarning: pandas.io.json.json_normalize is deprecated, use pandas.json_normalize instead\n",
            "  \"\"\"\n"
          ],
          "name": "stderr"
        }
      ]
    },
    {
      "cell_type": "code",
      "metadata": {
        "colab": {
          "base_uri": "https://localhost:8080/",
          "height": 202
        },
        "id": "i4tnOFftaNHV",
        "outputId": "f7e0b74f-d763-4e8e-94e0-d0c3b5e2660c"
      },
      "source": [
        "extracted_data.head()"
      ],
      "execution_count": 20,
      "outputs": [
        {
          "output_type": "execute_result",
          "data": {
            "text/html": [
              "<div>\n",
              "<style scoped>\n",
              "    .dataframe tbody tr th:only-of-type {\n",
              "        vertical-align: middle;\n",
              "    }\n",
              "\n",
              "    .dataframe tbody tr th {\n",
              "        vertical-align: top;\n",
              "    }\n",
              "\n",
              "    .dataframe thead th {\n",
              "        text-align: right;\n",
              "    }\n",
              "</style>\n",
              "<table border=\"1\" class=\"dataframe\">\n",
              "  <thead>\n",
              "    <tr style=\"text-align: right;\">\n",
              "      <th></th>\n",
              "      <th>answerKey</th>\n",
              "      <th>id</th>\n",
              "      <th>question_concept</th>\n",
              "      <th>choices</th>\n",
              "      <th>stem</th>\n",
              "    </tr>\n",
              "  </thead>\n",
              "  <tbody>\n",
              "    <tr>\n",
              "      <th>0</th>\n",
              "      <td>A</td>\n",
              "      <td>075e483d21c29a511267ef62bedc0461</td>\n",
              "      <td>punishing</td>\n",
              "      <td>[{'label': 'A', 'text': 'ignore'}, {'label': '...</td>\n",
              "      <td>The sanctions against the school were a punish...</td>\n",
              "    </tr>\n",
              "    <tr>\n",
              "      <th>1</th>\n",
              "      <td>B</td>\n",
              "      <td>61fe6e879ff18686d7552425a36344c8</td>\n",
              "      <td>people</td>\n",
              "      <td>[{'label': 'A', 'text': 'race track'}, {'label...</td>\n",
              "      <td>Sammy wanted to go to where the people were.  ...</td>\n",
              "    </tr>\n",
              "    <tr>\n",
              "      <th>2</th>\n",
              "      <td>A</td>\n",
              "      <td>4c1cb0e95b99f72d55c068ba0255c54d</td>\n",
              "      <td>choker</td>\n",
              "      <td>[{'label': 'A', 'text': 'jewelry store'}, {'la...</td>\n",
              "      <td>To locate a choker not located in a jewelry bo...</td>\n",
              "    </tr>\n",
              "    <tr>\n",
              "      <th>3</th>\n",
              "      <td>D</td>\n",
              "      <td>02e821a3e53cb320790950aab4489e85</td>\n",
              "      <td>highway</td>\n",
              "      <td>[{'label': 'A', 'text': 'united states'}, {'la...</td>\n",
              "      <td>Google Maps and other highway and street GPS s...</td>\n",
              "    </tr>\n",
              "    <tr>\n",
              "      <th>4</th>\n",
              "      <td>C</td>\n",
              "      <td>23505889b94e880c3e89cff4ba119860</td>\n",
              "      <td>fox</td>\n",
              "      <td>[{'label': 'A', 'text': 'pretty flowers.'}, {'...</td>\n",
              "      <td>The fox walked from the city into the forest, ...</td>\n",
              "    </tr>\n",
              "  </tbody>\n",
              "</table>\n",
              "</div>"
            ],
            "text/plain": [
              "  answerKey  ...                                               stem\n",
              "0         A  ...  The sanctions against the school were a punish...\n",
              "1         B  ...  Sammy wanted to go to where the people were.  ...\n",
              "2         A  ...  To locate a choker not located in a jewelry bo...\n",
              "3         D  ...  Google Maps and other highway and street GPS s...\n",
              "4         C  ...  The fox walked from the city into the forest, ...\n",
              "\n",
              "[5 rows x 5 columns]"
            ]
          },
          "metadata": {
            "tags": []
          },
          "execution_count": 20
        }
      ]
    },
    {
      "cell_type": "code",
      "metadata": {
        "colab": {
          "base_uri": "https://localhost:8080/",
          "height": 202
        },
        "id": "GZkL5BnWamuV",
        "outputId": "260f76a3-c342-467a-d7cd-3ed5de186ecd"
      },
      "source": [
        "num_choices = len(extracted_data['choices'][0])\r\n",
        "\r\n",
        "def get_choices(options, val):\r\n",
        "    option = options[int(val)]\r\n",
        "    return option.get('text')\r\n",
        "\r\n",
        "choices = np.arange(num_choices)\r\n",
        "choices = choices.astype('str')\r\n",
        "#for c in choices:\r\n",
        "#    extracted_data['choice_' + c] = extracted_data['choices'].apply(lambda x: get_choices(x, c))\r\n",
        "answer_match = {'A':0, 'B':1, 'C':2, 'D':3, 'E':4}\r\n",
        "\r\n",
        "def get_label(answer):\r\n",
        "    return answer_match.get(answer)\r\n",
        "extracted_data['label'] = extracted_data['answerKey'].apply(lambda x: get_label(x))\r\n",
        "\r\n",
        "extracted_data.head()"
      ],
      "execution_count": 35,
      "outputs": [
        {
          "output_type": "execute_result",
          "data": {
            "text/html": [
              "<div>\n",
              "<style scoped>\n",
              "    .dataframe tbody tr th:only-of-type {\n",
              "        vertical-align: middle;\n",
              "    }\n",
              "\n",
              "    .dataframe tbody tr th {\n",
              "        vertical-align: top;\n",
              "    }\n",
              "\n",
              "    .dataframe thead th {\n",
              "        text-align: right;\n",
              "    }\n",
              "</style>\n",
              "<table border=\"1\" class=\"dataframe\">\n",
              "  <thead>\n",
              "    <tr style=\"text-align: right;\">\n",
              "      <th></th>\n",
              "      <th>answerKey</th>\n",
              "      <th>id</th>\n",
              "      <th>question_concept</th>\n",
              "      <th>choices</th>\n",
              "      <th>stem</th>\n",
              "      <th>label</th>\n",
              "    </tr>\n",
              "  </thead>\n",
              "  <tbody>\n",
              "    <tr>\n",
              "      <th>0</th>\n",
              "      <td>A</td>\n",
              "      <td>075e483d21c29a511267ef62bedc0461</td>\n",
              "      <td>punishing</td>\n",
              "      <td>[{'label': 'A', 'text': 'ignore'}, {'label': '...</td>\n",
              "      <td>The sanctions against the school were a punish...</td>\n",
              "      <td>0</td>\n",
              "    </tr>\n",
              "    <tr>\n",
              "      <th>1</th>\n",
              "      <td>B</td>\n",
              "      <td>61fe6e879ff18686d7552425a36344c8</td>\n",
              "      <td>people</td>\n",
              "      <td>[{'label': 'A', 'text': 'race track'}, {'label...</td>\n",
              "      <td>Sammy wanted to go to where the people were.  ...</td>\n",
              "      <td>1</td>\n",
              "    </tr>\n",
              "    <tr>\n",
              "      <th>2</th>\n",
              "      <td>A</td>\n",
              "      <td>4c1cb0e95b99f72d55c068ba0255c54d</td>\n",
              "      <td>choker</td>\n",
              "      <td>[{'label': 'A', 'text': 'jewelry store'}, {'la...</td>\n",
              "      <td>To locate a choker not located in a jewelry bo...</td>\n",
              "      <td>0</td>\n",
              "    </tr>\n",
              "    <tr>\n",
              "      <th>3</th>\n",
              "      <td>D</td>\n",
              "      <td>02e821a3e53cb320790950aab4489e85</td>\n",
              "      <td>highway</td>\n",
              "      <td>[{'label': 'A', 'text': 'united states'}, {'la...</td>\n",
              "      <td>Google Maps and other highway and street GPS s...</td>\n",
              "      <td>3</td>\n",
              "    </tr>\n",
              "    <tr>\n",
              "      <th>4</th>\n",
              "      <td>C</td>\n",
              "      <td>23505889b94e880c3e89cff4ba119860</td>\n",
              "      <td>fox</td>\n",
              "      <td>[{'label': 'A', 'text': 'pretty flowers.'}, {'...</td>\n",
              "      <td>The fox walked from the city into the forest, ...</td>\n",
              "      <td>2</td>\n",
              "    </tr>\n",
              "  </tbody>\n",
              "</table>\n",
              "</div>"
            ],
            "text/plain": [
              "  answerKey  ... label\n",
              "0         A  ...     0\n",
              "1         B  ...     1\n",
              "2         A  ...     0\n",
              "3         D  ...     3\n",
              "4         C  ...     2\n",
              "\n",
              "[5 rows x 6 columns]"
            ]
          },
          "metadata": {
            "tags": []
          },
          "execution_count": 35
        }
      ]
    },
    {
      "cell_type": "code",
      "metadata": {
        "colab": {
          "base_uri": "https://localhost:8080/"
        },
        "id": "O0EXdK1UiLme",
        "outputId": "4e833ac9-67e4-4c1e-b70a-9fd051857d07"
      },
      "source": [
        "extracted_data['choices'][0]"
      ],
      "execution_count": 29,
      "outputs": [
        {
          "output_type": "execute_result",
          "data": {
            "text/plain": [
              "[{'label': 'A', 'text': 'ignore'},\n",
              " {'label': 'B', 'text': 'enforce'},\n",
              " {'label': 'C', 'text': 'authoritarian'},\n",
              " {'label': 'D', 'text': 'yell at'},\n",
              " {'label': 'E', 'text': 'avoid'}]"
            ]
          },
          "metadata": {
            "tags": []
          },
          "execution_count": 29
        }
      ]
    },
    {
      "cell_type": "code",
      "metadata": {
        "colab": {
          "base_uri": "https://localhost:8080/"
        },
        "id": "N1LDkvlMjJiv",
        "outputId": "ebfaa6aa-9aa3-4c48-aa7e-8546ddc1a9c2"
      },
      "source": [
        "s = extracted_data['choices'][1]\r\n",
        "l = extracted_data['label'][1]\r\n",
        "print(get_choices(s, l))"
      ],
      "execution_count": 31,
      "outputs": [
        {
          "output_type": "stream",
          "text": [
            "populated areas\n"
          ],
          "name": "stdout"
        }
      ]
    },
    {
      "cell_type": "code",
      "metadata": {
        "colab": {
          "base_uri": "https://localhost:8080/",
          "height": 289
        },
        "id": "ZiLv7D6uhM5S",
        "outputId": "7af252fe-4e12-45e2-bd8b-312f6a0a0743"
      },
      "source": [
        "extracted_data['answer'] = extracted_data.apply(lambda x: get_choices(x['choices'], x['label']), axis=1)\r\n",
        "\r\n",
        "extracted_data.head()"
      ],
      "execution_count": 36,
      "outputs": [
        {
          "output_type": "execute_result",
          "data": {
            "text/html": [
              "<div>\n",
              "<style scoped>\n",
              "    .dataframe tbody tr th:only-of-type {\n",
              "        vertical-align: middle;\n",
              "    }\n",
              "\n",
              "    .dataframe tbody tr th {\n",
              "        vertical-align: top;\n",
              "    }\n",
              "\n",
              "    .dataframe thead th {\n",
              "        text-align: right;\n",
              "    }\n",
              "</style>\n",
              "<table border=\"1\" class=\"dataframe\">\n",
              "  <thead>\n",
              "    <tr style=\"text-align: right;\">\n",
              "      <th></th>\n",
              "      <th>answerKey</th>\n",
              "      <th>id</th>\n",
              "      <th>question_concept</th>\n",
              "      <th>choices</th>\n",
              "      <th>stem</th>\n",
              "      <th>label</th>\n",
              "      <th>answer</th>\n",
              "    </tr>\n",
              "  </thead>\n",
              "  <tbody>\n",
              "    <tr>\n",
              "      <th>0</th>\n",
              "      <td>A</td>\n",
              "      <td>075e483d21c29a511267ef62bedc0461</td>\n",
              "      <td>punishing</td>\n",
              "      <td>[{'label': 'A', 'text': 'ignore'}, {'label': '...</td>\n",
              "      <td>The sanctions against the school were a punish...</td>\n",
              "      <td>0</td>\n",
              "      <td>ignore</td>\n",
              "    </tr>\n",
              "    <tr>\n",
              "      <th>1</th>\n",
              "      <td>B</td>\n",
              "      <td>61fe6e879ff18686d7552425a36344c8</td>\n",
              "      <td>people</td>\n",
              "      <td>[{'label': 'A', 'text': 'race track'}, {'label...</td>\n",
              "      <td>Sammy wanted to go to where the people were.  ...</td>\n",
              "      <td>1</td>\n",
              "      <td>populated areas</td>\n",
              "    </tr>\n",
              "    <tr>\n",
              "      <th>2</th>\n",
              "      <td>A</td>\n",
              "      <td>4c1cb0e95b99f72d55c068ba0255c54d</td>\n",
              "      <td>choker</td>\n",
              "      <td>[{'label': 'A', 'text': 'jewelry store'}, {'la...</td>\n",
              "      <td>To locate a choker not located in a jewelry bo...</td>\n",
              "      <td>0</td>\n",
              "      <td>jewelry store</td>\n",
              "    </tr>\n",
              "    <tr>\n",
              "      <th>3</th>\n",
              "      <td>D</td>\n",
              "      <td>02e821a3e53cb320790950aab4489e85</td>\n",
              "      <td>highway</td>\n",
              "      <td>[{'label': 'A', 'text': 'united states'}, {'la...</td>\n",
              "      <td>Google Maps and other highway and street GPS s...</td>\n",
              "      <td>3</td>\n",
              "      <td>atlas</td>\n",
              "    </tr>\n",
              "    <tr>\n",
              "      <th>4</th>\n",
              "      <td>C</td>\n",
              "      <td>23505889b94e880c3e89cff4ba119860</td>\n",
              "      <td>fox</td>\n",
              "      <td>[{'label': 'A', 'text': 'pretty flowers.'}, {'...</td>\n",
              "      <td>The fox walked from the city into the forest, ...</td>\n",
              "      <td>2</td>\n",
              "      <td>natural habitat</td>\n",
              "    </tr>\n",
              "  </tbody>\n",
              "</table>\n",
              "</div>"
            ],
            "text/plain": [
              "  answerKey                                id  ... label           answer\n",
              "0         A  075e483d21c29a511267ef62bedc0461  ...     0           ignore\n",
              "1         B  61fe6e879ff18686d7552425a36344c8  ...     1  populated areas\n",
              "2         A  4c1cb0e95b99f72d55c068ba0255c54d  ...     0    jewelry store\n",
              "3         D  02e821a3e53cb320790950aab4489e85  ...     3            atlas\n",
              "4         C  23505889b94e880c3e89cff4ba119860  ...     2  natural habitat\n",
              "\n",
              "[5 rows x 7 columns]"
            ]
          },
          "metadata": {
            "tags": []
          },
          "execution_count": 36
        }
      ]
    },
    {
      "cell_type": "code",
      "metadata": {
        "colab": {
          "base_uri": "https://localhost:8080/"
        },
        "id": "5I9kX_Rkkf9l",
        "outputId": "21bbb913-1fcc-4ef9-c79b-abff75a0b45b"
      },
      "source": [
        "extracted_data.shape"
      ],
      "execution_count": 37,
      "outputs": [
        {
          "output_type": "execute_result",
          "data": {
            "text/plain": [
              "(9741, 7)"
            ]
          },
          "metadata": {
            "tags": []
          },
          "execution_count": 37
        }
      ]
    },
    {
      "cell_type": "code",
      "metadata": {
        "id": "dmhQ_AFnmEpU"
      },
      "source": [
        "qa = extracted_data[['stem', 'answer']]\r\n",
        "qa.columns = ['question', 'answer']"
      ],
      "execution_count": 45,
      "outputs": []
    },
    {
      "cell_type": "code",
      "metadata": {
        "id": "9Xpj5-YXk9xE"
      },
      "source": [
        "# Save Q&A for later use\r\n",
        "qa.to_csv(\"commonsenseqa.tsv\", index=False, sep='\\t')"
      ],
      "execution_count": 46,
      "outputs": []
    },
    {
      "cell_type": "code",
      "metadata": {
        "id": "WhTt7vvGq1Dq"
      },
      "source": [
        "import torch\r\n",
        "import torch.nn as nn\r\n",
        "import torch.optim as optim\r\n",
        "\r\n",
        "from torchtext.data import Field, BucketIterator, TabularDataset\r\n",
        "\r\n",
        "import spacy\r\n",
        "import numpy as np\r\n",
        "\r\n",
        "import random\r\n",
        "import math\r\n",
        "import time"
      ],
      "execution_count": 38,
      "outputs": []
    },
    {
      "cell_type": "code",
      "metadata": {
        "id": "fyG_XKX4q4Rv"
      },
      "source": [
        "# Use same field for both columns since they have a shared vocabulary\r\n",
        "QA = Field(\r\n",
        "    tokenize='spacy',\r\n",
        "    lower=True,\r\n",
        "    init_token='<sos>', \r\n",
        "    eos_token='<eos>'\r\n",
        ")\r\n",
        "\r\n",
        "fields = [('src', QA), ('trg', QA)]"
      ],
      "execution_count": 47,
      "outputs": []
    },
    {
      "cell_type": "code",
      "metadata": {
        "id": "eUQMpwqFrVT8"
      },
      "source": [
        "# Create dataset\r\n",
        "dataset = TabularDataset(\r\n",
        "    path='commonsenseqa.tsv',\r\n",
        "    format='TSV',\r\n",
        "    fields=fields,\r\n",
        "    skip_header=True\r\n",
        ")"
      ],
      "execution_count": 48,
      "outputs": []
    },
    {
      "cell_type": "code",
      "metadata": {
        "colab": {
          "base_uri": "https://localhost:8080/"
        },
        "id": "5_6xe7ecs62T",
        "outputId": "72f4e09b-9e64-487a-8ec0-e224926bf6d0"
      },
      "source": [
        "# Train/val split\r\n",
        "train_data, valid_data, test_data = dataset.split(split_ratio=[0.75, 0.15, 0.1])\r\n",
        "print(len(train_data), len(valid_data), len(test_data))"
      ],
      "execution_count": 49,
      "outputs": [
        {
          "output_type": "stream",
          "text": [
            "7306 974 1461\n"
          ],
          "name": "stdout"
        }
      ]
    },
    {
      "cell_type": "code",
      "metadata": {
        "colab": {
          "base_uri": "https://localhost:8080/"
        },
        "id": "txAqnD5itWlH",
        "outputId": "9c1284f2-0ac6-489c-d5f0-f4029bf54289"
      },
      "source": [
        "print(vars(train_data.examples[0]))"
      ],
      "execution_count": 50,
      "outputs": [
        {
          "output_type": "stream",
          "text": [
            "{'src': ['what', 'kind', 'of', 'radio', 'does', 'someone', 'use', 'to', 'reach', 'base', '?'], 'trg': ['transistor']}\n"
          ],
          "name": "stdout"
        }
      ]
    },
    {
      "cell_type": "code",
      "metadata": {
        "id": "lukQ9q33uAOk"
      },
      "source": [
        "#Build the vocabulary.\r\n",
        "QA.build_vocab(train_data, min_freq = 2)"
      ],
      "execution_count": 51,
      "outputs": []
    },
    {
      "cell_type": "code",
      "metadata": {
        "id": "pPH0e-jEuo7j"
      },
      "source": [
        "device = torch.device('cuda' if torch.cuda.is_available() else 'cpu')"
      ],
      "execution_count": 52,
      "outputs": []
    },
    {
      "cell_type": "code",
      "metadata": {
        "colab": {
          "base_uri": "https://localhost:8080/"
        },
        "id": "NYoiRD-wut14",
        "outputId": "e62d933b-ec75-4ac5-eeea-5f82bc1af59b"
      },
      "source": [
        "device"
      ],
      "execution_count": 53,
      "outputs": [
        {
          "output_type": "execute_result",
          "data": {
            "text/plain": [
              "device(type='cuda')"
            ]
          },
          "metadata": {
            "tags": []
          },
          "execution_count": 53
        }
      ]
    },
    {
      "cell_type": "code",
      "metadata": {
        "id": "sJTpujdmuvC6"
      },
      "source": [
        "BATCH_SIZE = 128\r\n",
        "\r\n",
        "train_iterator, valid_iterator, test_iterator = BucketIterator.splits(\r\n",
        "    (train_data, valid_data, test_data), \r\n",
        "    sort_key = lambda x : len(x.src), \r\n",
        "    batch_size = BATCH_SIZE, \r\n",
        "    device = device)"
      ],
      "execution_count": 54,
      "outputs": []
    },
    {
      "cell_type": "code",
      "metadata": {
        "id": "QhGAHlUowBh5"
      },
      "source": [
        "class Encoder(nn.Module):\r\n",
        "    def __init__(self, input_dim, emb_dim, hid_dim, dropout):\r\n",
        "        super().__init__()\r\n",
        "\r\n",
        "        self.hid_dim = hid_dim\r\n",
        "        \r\n",
        "        self.embedding = nn.Embedding(input_dim, emb_dim) #no dropout as only one layer!\r\n",
        "        \r\n",
        "        self.rnn = nn.GRU(emb_dim, hid_dim)\r\n",
        "        \r\n",
        "        self.dropout = nn.Dropout(dropout)\r\n",
        "        \r\n",
        "    def forward(self, src):\r\n",
        "        \r\n",
        "        #src = [src len, batch size]\r\n",
        "        \r\n",
        "        embedded = self.dropout(self.embedding(src))\r\n",
        "        \r\n",
        "        #embedded = [src len, batch size, emb dim]\r\n",
        "        \r\n",
        "        outputs, hidden = self.rnn(embedded) #no cell state!\r\n",
        "        \r\n",
        "        #outputs = [src len, batch size, hid dim * n directions]\r\n",
        "        #hidden = [n layers * n directions, batch size, hid dim]\r\n",
        "        \r\n",
        "        #outputs are always from the top hidden layer\r\n",
        "        \r\n",
        "        return hidden"
      ],
      "execution_count": 55,
      "outputs": []
    },
    {
      "cell_type": "code",
      "metadata": {
        "id": "adrk0h8uwF8y"
      },
      "source": [
        "class Decoder(nn.Module):\r\n",
        "    def __init__(self, output_dim, emb_dim, hid_dim, dropout):\r\n",
        "        super().__init__()\r\n",
        "\r\n",
        "        self.hid_dim = hid_dim\r\n",
        "        self.output_dim = output_dim\r\n",
        "        \r\n",
        "        self.embedding = nn.Embedding(output_dim, emb_dim)\r\n",
        "        \r\n",
        "        self.rnn = nn.GRU(emb_dim + hid_dim, hid_dim)\r\n",
        "        \r\n",
        "        self.fc_out = nn.Linear(emb_dim + hid_dim * 2, output_dim)\r\n",
        "        \r\n",
        "        self.dropout = nn.Dropout(dropout)\r\n",
        "        \r\n",
        "    def forward(self, input, hidden, context):\r\n",
        "        \r\n",
        "        #input = [batch size]\r\n",
        "        #hidden = [n layers * n directions, batch size, hid dim]\r\n",
        "        #context = [n layers * n directions, batch size, hid dim]\r\n",
        "        \r\n",
        "        #n layers and n directions in the decoder will both always be 1, therefore:\r\n",
        "        #hidden = [1, batch size, hid dim]\r\n",
        "        #context = [1, batch size, hid dim]\r\n",
        "        \r\n",
        "        input = input.unsqueeze(0)\r\n",
        "        \r\n",
        "        #input = [1, batch size]\r\n",
        "        \r\n",
        "        embedded = self.dropout(self.embedding(input))\r\n",
        "        \r\n",
        "        #embedded = [1, batch size, emb dim]\r\n",
        "                \r\n",
        "        emb_con = torch.cat((embedded, context), dim = 2)\r\n",
        "            \r\n",
        "        #emb_con = [1, batch size, emb dim + hid dim]\r\n",
        "            \r\n",
        "        output, hidden = self.rnn(emb_con, hidden)\r\n",
        "        \r\n",
        "        #output = [seq len, batch size, hid dim * n directions]\r\n",
        "        #hidden = [n layers * n directions, batch size, hid dim]\r\n",
        "        \r\n",
        "        #seq len, n layers and n directions will always be 1 in the decoder, therefore:\r\n",
        "        #output = [1, batch size, hid dim]\r\n",
        "        #hidden = [1, batch size, hid dim]\r\n",
        "        \r\n",
        "        output = torch.cat((embedded.squeeze(0), hidden.squeeze(0), context.squeeze(0)), \r\n",
        "                           dim = 1)\r\n",
        "        \r\n",
        "        #output = [batch size, emb dim + hid dim * 2]\r\n",
        "        \r\n",
        "        prediction = self.fc_out(output)\r\n",
        "        \r\n",
        "        #prediction = [batch size, output dim]\r\n",
        "        \r\n",
        "        return prediction, hidden"
      ],
      "execution_count": 56,
      "outputs": []
    },
    {
      "cell_type": "code",
      "metadata": {
        "id": "qPN6EF2CwUFO"
      },
      "source": [
        "class Seq2Seq(nn.Module):\r\n",
        "    def __init__(self, encoder, decoder, device):\r\n",
        "        super().__init__()\r\n",
        "        \r\n",
        "        self.encoder = encoder\r\n",
        "        self.decoder = decoder\r\n",
        "        self.device = device\r\n",
        "        \r\n",
        "        assert encoder.hid_dim == decoder.hid_dim, \\\r\n",
        "            \"Hidden dimensions of encoder and decoder must be equal!\"\r\n",
        "        \r\n",
        "    def forward(self, src, trg, teacher_forcing_ratio = 0.5):\r\n",
        "        \r\n",
        "        #src = [src len, batch size]\r\n",
        "        #trg = [trg len, batch size]\r\n",
        "        #teacher_forcing_ratio is probability to use teacher forcing\r\n",
        "        #e.g. if teacher_forcing_ratio is 0.75 we use ground-truth inputs 75% of the time\r\n",
        "        \r\n",
        "        batch_size = trg.shape[1]\r\n",
        "        trg_len = trg.shape[0]\r\n",
        "        trg_vocab_size = self.decoder.output_dim\r\n",
        "        \r\n",
        "        #tensor to store decoder outputs\r\n",
        "        outputs = torch.zeros(trg_len, batch_size, trg_vocab_size).to(self.device)\r\n",
        "        \r\n",
        "        #last hidden state of the encoder is the context\r\n",
        "        context = self.encoder(src)\r\n",
        "        \r\n",
        "        #context also used as the initial hidden state of the decoder\r\n",
        "        hidden = context\r\n",
        "        \r\n",
        "        #first input to the decoder is the <sos> tokens\r\n",
        "        input = trg[0,:]\r\n",
        "        \r\n",
        "        for t in range(1, trg_len):\r\n",
        "            \r\n",
        "            #insert input token embedding, previous hidden state and the context state\r\n",
        "            #receive output tensor (predictions) and new hidden state\r\n",
        "            output, hidden = self.decoder(input, hidden, context)\r\n",
        "            \r\n",
        "            #place predictions in a tensor holding predictions for each token\r\n",
        "            outputs[t] = output\r\n",
        "            \r\n",
        "            #decide if we are going to use teacher forcing or not\r\n",
        "            teacher_force = random.random() < teacher_forcing_ratio\r\n",
        "            \r\n",
        "            #get the highest predicted token from our predictions\r\n",
        "            top1 = output.argmax(1) \r\n",
        "            \r\n",
        "            #if teacher forcing, use actual next token as next input\r\n",
        "            #if not, use predicted token\r\n",
        "            input = trg[t] if teacher_force else top1\r\n",
        "\r\n",
        "        return outputs"
      ],
      "execution_count": 57,
      "outputs": []
    },
    {
      "cell_type": "code",
      "metadata": {
        "id": "Tqciy_xIwcZI"
      },
      "source": [
        "INPUT_DIM = len(QA.vocab)\r\n",
        "OUTPUT_DIM = len(QA.vocab)\r\n",
        "ENC_EMB_DIM = 256\r\n",
        "DEC_EMB_DIM = 256\r\n",
        "HID_DIM = 512\r\n",
        "ENC_DROPOUT = 0.5\r\n",
        "DEC_DROPOUT = 0.5\r\n",
        "\r\n",
        "enc = Encoder(INPUT_DIM, ENC_EMB_DIM, HID_DIM, ENC_DROPOUT)\r\n",
        "dec = Decoder(OUTPUT_DIM, DEC_EMB_DIM, HID_DIM, DEC_DROPOUT)\r\n",
        "\r\n",
        "device = torch.device('cuda' if torch.cuda.is_available() else 'cpu')\r\n",
        "\r\n",
        "model = Seq2Seq(enc, dec, device).to(device)"
      ],
      "execution_count": 58,
      "outputs": []
    },
    {
      "cell_type": "code",
      "metadata": {
        "colab": {
          "base_uri": "https://localhost:8080/"
        },
        "id": "TJcOKZeSwmqH",
        "outputId": "4065ae1a-0348-44ab-848a-dc1544802981"
      },
      "source": [
        "def init_weights(m):\r\n",
        "    for name, param in m.named_parameters():\r\n",
        "        nn.init.normal_(param.data, mean=0, std=0.01)\r\n",
        "        \r\n",
        "model.apply(init_weights)"
      ],
      "execution_count": 59,
      "outputs": [
        {
          "output_type": "execute_result",
          "data": {
            "text/plain": [
              "Seq2Seq(\n",
              "  (encoder): Encoder(\n",
              "    (embedding): Embedding(4612, 256)\n",
              "    (rnn): GRU(256, 512)\n",
              "    (dropout): Dropout(p=0.5, inplace=False)\n",
              "  )\n",
              "  (decoder): Decoder(\n",
              "    (embedding): Embedding(4612, 256)\n",
              "    (rnn): GRU(768, 512)\n",
              "    (fc_out): Linear(in_features=1280, out_features=4612, bias=True)\n",
              "    (dropout): Dropout(p=0.5, inplace=False)\n",
              "  )\n",
              ")"
            ]
          },
          "metadata": {
            "tags": []
          },
          "execution_count": 59
        }
      ]
    },
    {
      "cell_type": "code",
      "metadata": {
        "colab": {
          "base_uri": "https://localhost:8080/"
        },
        "id": "Bbw5RJ0mwscr",
        "outputId": "64acc343-4d85-48cf-9b65-1eaba2991e05"
      },
      "source": [
        "def count_parameters(model):\r\n",
        "    return sum(p.numel() for p in model.parameters() if p.requires_grad)\r\n",
        "\r\n",
        "print(f'The model has {count_parameters(model):,} trainable parameters')"
      ],
      "execution_count": 60,
      "outputs": [
        {
          "output_type": "stream",
          "text": [
            "The model has 11,421,188 trainable parameters\n"
          ],
          "name": "stdout"
        }
      ]
    },
    {
      "cell_type": "code",
      "metadata": {
        "id": "zlAAGTRKwvtW"
      },
      "source": [
        "optimizer = optim.Adam(model.parameters())"
      ],
      "execution_count": 61,
      "outputs": []
    },
    {
      "cell_type": "code",
      "metadata": {
        "id": "p-TbzvKYw0iG"
      },
      "source": [
        "PAD_IDX = QA.vocab.stoi[QA.pad_token]\r\n",
        "\r\n",
        "criterion = nn.CrossEntropyLoss(ignore_index = PAD_IDX)"
      ],
      "execution_count": 64,
      "outputs": []
    },
    {
      "cell_type": "code",
      "metadata": {
        "id": "ew2EXN2nw7Cb"
      },
      "source": [
        "def train(model, iterator, optimizer, criterion, clip):\r\n",
        "    \r\n",
        "    model.train()\r\n",
        "    \r\n",
        "    epoch_loss = 0\r\n",
        "    \r\n",
        "    for i, batch in enumerate(iterator):\r\n",
        "        \r\n",
        "        src = batch.src\r\n",
        "        trg = batch.trg\r\n",
        "        \r\n",
        "        optimizer.zero_grad()\r\n",
        "        \r\n",
        "        output = model(src, trg)\r\n",
        "        \r\n",
        "        #trg = [trg len, batch size]\r\n",
        "        #output = [trg len, batch size, output dim]\r\n",
        "        \r\n",
        "        output_dim = output.shape[-1]\r\n",
        "        \r\n",
        "        output = output[1:].view(-1, output_dim)\r\n",
        "        trg = trg[1:].view(-1)\r\n",
        "        \r\n",
        "        #trg = [(trg len - 1) * batch size]\r\n",
        "        #output = [(trg len - 1) * batch size, output dim]\r\n",
        "        \r\n",
        "        loss = criterion(output, trg)\r\n",
        "        \r\n",
        "        loss.backward()\r\n",
        "        \r\n",
        "        torch.nn.utils.clip_grad_norm_(model.parameters(), clip)\r\n",
        "        \r\n",
        "        optimizer.step()\r\n",
        "        \r\n",
        "        epoch_loss += loss.item()\r\n",
        "        \r\n",
        "    return epoch_loss / len(iterator)"
      ],
      "execution_count": 65,
      "outputs": []
    },
    {
      "cell_type": "code",
      "metadata": {
        "id": "mv4zrqeexZa4"
      },
      "source": [
        "def evaluate(model, iterator, criterion):\r\n",
        "    \r\n",
        "    model.eval()\r\n",
        "    \r\n",
        "    epoch_loss = 0\r\n",
        "    \r\n",
        "    with torch.no_grad():\r\n",
        "    \r\n",
        "        for i, batch in enumerate(iterator):\r\n",
        "\r\n",
        "            src = batch.src\r\n",
        "            trg = batch.trg\r\n",
        "\r\n",
        "            output = model(src, trg, 0) #turn off teacher forcing\r\n",
        "\r\n",
        "            #trg = [trg len, batch size]\r\n",
        "            #output = [trg len, batch size, output dim]\r\n",
        "\r\n",
        "            output_dim = output.shape[-1]\r\n",
        "            \r\n",
        "            output = output[1:].view(-1, output_dim)\r\n",
        "            trg = trg[1:].view(-1)\r\n",
        "\r\n",
        "            #trg = [(trg len - 1) * batch size]\r\n",
        "            #output = [(trg len - 1) * batch size, output dim]\r\n",
        "\r\n",
        "            loss = criterion(output, trg)\r\n",
        "\r\n",
        "            epoch_loss += loss.item()\r\n",
        "        \r\n",
        "    return epoch_loss / len(iterator)"
      ],
      "execution_count": 66,
      "outputs": []
    },
    {
      "cell_type": "code",
      "metadata": {
        "id": "qu5IWYa0xdK6"
      },
      "source": [
        "def epoch_time(start_time, end_time):\r\n",
        "    elapsed_time = end_time - start_time\r\n",
        "    elapsed_mins = int(elapsed_time / 60)\r\n",
        "    elapsed_secs = int(elapsed_time - (elapsed_mins * 60))\r\n",
        "    return elapsed_mins, elapsed_secs"
      ],
      "execution_count": 67,
      "outputs": []
    },
    {
      "cell_type": "code",
      "metadata": {
        "colab": {
          "base_uri": "https://localhost:8080/"
        },
        "id": "oNVcTKCVxgYe",
        "outputId": "89e6cc1b-2e46-4879-aeeb-c885b62ad271"
      },
      "source": [
        "N_EPOCHS = 10\r\n",
        "CLIP = 1\r\n",
        "\r\n",
        "best_valid_loss = float('inf')\r\n",
        "\r\n",
        "for epoch in range(N_EPOCHS):\r\n",
        "    \r\n",
        "    start_time = time.time()\r\n",
        "    \r\n",
        "    train_loss = train(model, train_iterator, optimizer, criterion, CLIP)\r\n",
        "    valid_loss = evaluate(model, valid_iterator, criterion)\r\n",
        "    \r\n",
        "    end_time = time.time()\r\n",
        "    \r\n",
        "    epoch_mins, epoch_secs = epoch_time(start_time, end_time)\r\n",
        "    \r\n",
        "    if valid_loss < best_valid_loss:\r\n",
        "        best_valid_loss = valid_loss\r\n",
        "        torch.save(model.state_dict(), 'tut2-model.pt')\r\n",
        "    \r\n",
        "    print(f'Epoch: {epoch+1:02} | Time: {epoch_mins}m {epoch_secs}s')\r\n",
        "    print(f'\\tTrain Loss: {train_loss:.3f} | Train PPL: {math.exp(train_loss):7.3f}')\r\n",
        "    print(f'\\t Val. Loss: {valid_loss:.3f} |  Val. PPL: {math.exp(valid_loss):7.3f}')"
      ],
      "execution_count": 68,
      "outputs": [
        {
          "output_type": "stream",
          "text": [
            "Epoch: 01 | Time: 0m 2s\n",
            "\tTrain Loss: 5.124 | Train PPL: 168.033\n",
            "\t Val. Loss: 4.375 |  Val. PPL:  79.401\n",
            "Epoch: 02 | Time: 0m 2s\n",
            "\tTrain Loss: 4.329 | Train PPL:  75.839\n",
            "\t Val. Loss: 4.357 |  Val. PPL:  78.056\n",
            "Epoch: 03 | Time: 0m 2s\n",
            "\tTrain Loss: 4.246 | Train PPL:  69.857\n",
            "\t Val. Loss: 4.345 |  Val. PPL:  77.083\n",
            "Epoch: 04 | Time: 0m 2s\n",
            "\tTrain Loss: 4.194 | Train PPL:  66.319\n",
            "\t Val. Loss: 4.371 |  Val. PPL:  79.122\n",
            "Epoch: 05 | Time: 0m 2s\n",
            "\tTrain Loss: 4.149 | Train PPL:  63.365\n",
            "\t Val. Loss: 4.371 |  Val. PPL:  79.133\n",
            "Epoch: 06 | Time: 0m 2s\n",
            "\tTrain Loss: 4.105 | Train PPL:  60.670\n",
            "\t Val. Loss: 4.394 |  Val. PPL:  80.969\n",
            "Epoch: 07 | Time: 0m 2s\n",
            "\tTrain Loss: 4.094 | Train PPL:  60.001\n",
            "\t Val. Loss: 4.384 |  Val. PPL:  80.124\n",
            "Epoch: 08 | Time: 0m 1s\n",
            "\tTrain Loss: 4.051 | Train PPL:  57.483\n",
            "\t Val. Loss: 4.401 |  Val. PPL:  81.522\n",
            "Epoch: 09 | Time: 0m 2s\n",
            "\tTrain Loss: 4.049 | Train PPL:  57.340\n",
            "\t Val. Loss: 4.406 |  Val. PPL:  81.926\n",
            "Epoch: 10 | Time: 0m 2s\n",
            "\tTrain Loss: 4.068 | Train PPL:  58.422\n",
            "\t Val. Loss: 4.406 |  Val. PPL:  81.931\n"
          ],
          "name": "stdout"
        }
      ]
    },
    {
      "cell_type": "code",
      "metadata": {
        "id": "HYTFB6fmnY0w"
      },
      "source": [
        ""
      ],
      "execution_count": null,
      "outputs": []
    }
  ]
}