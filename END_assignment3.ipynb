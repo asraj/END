{
  "nbformat": 4,
  "nbformat_minor": 0,
  "metadata": {
    "colab": {
      "name": "END_assignment3.ipynb",
      "provenance": [],
      "collapsed_sections": [],
      "authorship_tag": "ABX9TyN74Mm8VoV9vaECV6Yc2N5K",
      "include_colab_link": true
    },
    "kernelspec": {
      "name": "python3",
      "display_name": "Python 3"
    }
  },
  "cells": [
    {
      "cell_type": "markdown",
      "metadata": {
        "id": "view-in-github",
        "colab_type": "text"
      },
      "source": [
        "<a href=\"https://colab.research.google.com/github/asraj/END/blob/main/END_assignment3.ipynb\" target=\"_parent\"><img src=\"https://colab.research.google.com/assets/colab-badge.svg\" alt=\"Open In Colab\"/></a>"
      ]
    },
    {
      "cell_type": "markdown",
      "metadata": {
        "id": "ocQeoyu_tcbs"
      },
      "source": [
        "Team: Stephen Raj A, Atul Gupta, Kranti & Rajeswar Reddy"
      ]
    },
    {
      "cell_type": "markdown",
      "metadata": {
        "id": "7rG3MU1LkHuC"
      },
      "source": [
        "1. Write a function using only list filter lambda that can tell whether a number is a Fibonacci number or not. You can use a pre-calculated list/dict to store fab numbers till 10000 PTS:100"
      ]
    },
    {
      "cell_type": "code",
      "metadata": {
        "id": "nkgC69fDO6te"
      },
      "source": [
        "# First define a function to a list of Fibonacci numbers. Do not want to manually create this list\n",
        "def fib(n):\n",
        "  \"\"\" function to return a list of Fibonacci numbers less than or equal to given number\"\"\"\n",
        "  l = [0,1]\n",
        "  new_term = l[-1] + l[-2]\n",
        "  while new_term <= n:\n",
        "    #print(l)\n",
        "    l.append(new_term)\n",
        "    new_term = l[-1] + l[-2]\n",
        "  return l\n"
      ],
      "execution_count": 1,
      "outputs": []
    },
    {
      "cell_type": "code",
      "metadata": {
        "id": "FuAAe0uZXrMf",
        "outputId": "bc1a4345-a92a-48c7-8078-3b1ab07dc6aa",
        "colab": {
          "base_uri": "https://localhost:8080/"
        }
      },
      "source": [
        "fib_list = (fib(10000)) # List of Fibonacci number from 0 to 10000\n",
        "\n",
        "def checkfibonacci(n):\n",
        "  \"\"\" function to check if given number is a fibonacci number or not\"\"\"\n",
        "  l = list(filter(lambda x: x == n, fib_list))\n",
        "  return False if len(l) == 0 else True\n",
        "\n",
        "print(checkfibonacci(4))"
      ],
      "execution_count": 2,
      "outputs": [
        {
          "output_type": "stream",
          "text": [
            "False\n"
          ],
          "name": "stdout"
        }
      ]
    },
    {
      "cell_type": "markdown",
      "metadata": {
        "id": "JaZWUPuVTk0J"
      },
      "source": [
        "2. Using list comprehension (and zip/lambda/etc if required) write five different expressions that: PTS:100\n",
        "\n",
        "2.1 Add 2 iterables a and b such that a is even and b is odd\n",
        "\n"
      ]
    },
    {
      "cell_type": "code",
      "metadata": {
        "id": "cNeJStWdXu4q",
        "outputId": "51149491-30e2-49d1-eb10-cbe9baea7973",
        "colab": {
          "base_uri": "https://localhost:8080/"
        }
      },
      "source": [
        "def add_even_odd(a, b):\n",
        "  \"\"\"function that add even numbers from list a and odd numbers from list b\"\"\"\n",
        "  even = list(filter(lambda x: x%2 ==0, a)) # filter even numbers from a\n",
        "  odd =  list(filter(lambda x: x%2 ==1, b)) # filter odd numbers from b\n",
        "  print(even)\n",
        "  print(odd)\n",
        "  c = list(map(lambda x, y: x + y, even, odd)) # Using map, add the 2 series\n",
        "\n",
        "  return(c)\n",
        "\n",
        "print(add_even_odd(range(5), range(5)))\n"
      ],
      "execution_count": 3,
      "outputs": [
        {
          "output_type": "stream",
          "text": [
            "[0, 2, 4]\n",
            "[1, 3]\n",
            "[1, 5]\n"
          ],
          "name": "stdout"
        }
      ]
    },
    {
      "cell_type": "markdown",
      "metadata": {
        "id": "kWtwjFhcUbC2"
      },
      "source": [
        "2.2 strips every vowel from a string provided (tsai>>t s)"
      ]
    },
    {
      "cell_type": "code",
      "metadata": {
        "id": "M_7QOqxvbr-p",
        "outputId": "091dc600-5fa5-488f-9039-fe76f6cc92f0",
        "colab": {
          "base_uri": "https://localhost:8080/"
        }
      },
      "source": [
        "def strip_vowel(s):\n",
        "  \"\"\"function that strips vowels from given string\"\"\"\n",
        "  r = list(filter(lambda x: x.lower() not in ['a', 'e', 'i', 'o', 'u'], s)) #character list after filtering vowels \n",
        "  return \"\".join(x for x in r) # join the character back as string and return\n",
        "\n",
        "print(strip_vowel(\"tsai\"))"
      ],
      "execution_count": 4,
      "outputs": [
        {
          "output_type": "stream",
          "text": [
            "ts\n"
          ],
          "name": "stdout"
        }
      ]
    },
    {
      "cell_type": "markdown",
      "metadata": {
        "id": "ZsXqLAoSWeND"
      },
      "source": [
        "2.3 acts like a ReLU function for a 1D array"
      ]
    },
    {
      "cell_type": "code",
      "metadata": {
        "id": "VBDhKW4xVGpH",
        "outputId": "d6ea48e3-b106-44a9-deb7-24a78aa9cdd9",
        "colab": {
          "base_uri": "https://localhost:8080/"
        }
      },
      "source": [
        "def relu(l:list):\n",
        "  \"\"\"return RELU of the given list of numbers\"\"\"\n",
        "  return [x if x>0 else 0 for x in l]\n",
        "\n",
        "print(relu([-1, 1, 0, 2, 3]))"
      ],
      "execution_count": 5,
      "outputs": [
        {
          "output_type": "stream",
          "text": [
            "[0, 1, 0, 2, 3]\n"
          ],
          "name": "stdout"
        }
      ]
    },
    {
      "cell_type": "markdown",
      "metadata": {
        "id": "3w8gF1bEYohX"
      },
      "source": [
        "2.4 acts like a sigmoid function for a 1D array"
      ]
    },
    {
      "cell_type": "code",
      "metadata": {
        "id": "nNWWKEAPWZPB",
        "outputId": "da3007c6-cb5a-4de7-e57f-66ad9561ebfe",
        "colab": {
          "base_uri": "https://localhost:8080/"
        }
      },
      "source": [
        "from math import exp\n",
        "def sigmoid(l):\n",
        "  \"\"\"return sigmoid of the given list of numbers\"\"\"\n",
        "  return [1/(1+exp(-x)) for x in l] \n",
        "\n",
        "print(sigmoid([-1, 1, 0, 2, 3]))"
      ],
      "execution_count": 6,
      "outputs": [
        {
          "output_type": "stream",
          "text": [
            "[0.2689414213699951, 0.7310585786300049, 0.5, 0.8807970779778823, 0.9525741268224334]\n"
          ],
          "name": "stdout"
        }
      ]
    },
    {
      "cell_type": "markdown",
      "metadata": {
        "id": "cs--glK6bUcg"
      },
      "source": [
        "2.5 takes a small character string and shifts all characters by 5 (handle boundary conditions) tsai>>yxfn"
      ]
    },
    {
      "cell_type": "code",
      "metadata": {
        "id": "e0REUHIhbYld",
        "outputId": "24a698d2-54ec-4da4-b1a4-e6f3fb4ba196",
        "colab": {
          "base_uri": "https://localhost:8080/"
        }
      },
      "source": [
        "def rotate(s):\n",
        "  r = [chr(ord(x)+5) if ord(x) < 118 else chr(ord(x)+5 - 26) for x in s.lower()] # shift by 5 chars. Rotate if go past z\n",
        "  return \"\".join(y for y in r)\n",
        "\n",
        "print(rotate('Tsaiuvwxyz'))"
      ],
      "execution_count": 7,
      "outputs": [
        {
          "output_type": "stream",
          "text": [
            "yxfnzabcde\n"
          ],
          "name": "stdout"
        }
      ]
    },
    {
      "cell_type": "markdown",
      "metadata": {
        "id": "8UwuPX38dUmv"
      },
      "source": [
        "3.A list comprehension expression that takes a ~200 word paragraph (write your own paragraph to check), and checks whether it has any of the swear words mentioned in https://github.com/RobertJGabriel/Google-profanity-words/blob/master/list.txt "
      ]
    },
    {
      "cell_type": "code",
      "metadata": {
        "id": "zTtKsrLPbIEk",
        "outputId": "b472d0bc-9b46-42df-b164-464194dac0b9",
        "colab": {
          "base_uri": "https://localhost:8080/"
        }
      },
      "source": [
        "# First create a list of swear word from the file\n",
        "import urllib.request as request\n",
        "import csv\n",
        "r = request.urlopen('https://raw.githubusercontent.com/RobertJGabriel/Google-profanity-words/master/list.txt').read().decode('utf8').split(\"\\n\")\n",
        "reader = csv.reader(r)\n",
        "swear_words=[]\n",
        "for line in reader:\n",
        "  swear_words = swear_words + line  \n",
        "print(swear_words)"
      ],
      "execution_count": 8,
      "outputs": [
        {
          "output_type": "stream",
          "text": [
            "['4r5e', '5h1t', '5hit', 'a55', 'anal', 'anus', 'ar5e', 'arrse', 'arse', 'ass', 'ass-fucker', 'asses', 'assfucker', 'assfukka', 'asshole', 'assholes', 'asswhole', 'a_s_s', 'b!tch', 'b00bs', 'b17ch', 'b1tch', 'ballbag', 'balls', 'ballsack', 'bastard', 'beastial', 'beastiality', 'bellend', 'bestial', 'bestiality', 'bi+ch', 'biatch', 'bitch', 'bitcher', 'bitchers', 'bitches', 'bitchin', 'bitching', 'bloody', 'blow job', 'blowjob', 'blowjobs', 'boiolas', 'bollock', 'bollok', 'boner', 'boob', 'boobs', 'booobs', 'boooobs', 'booooobs', 'booooooobs', 'breasts', 'buceta', 'bugger', 'bum', 'bunny fucker', 'butt', 'butthole', 'buttmunch', 'buttplug', 'c0ck', 'c0cksucker', 'carpet muncher', 'cawk', 'chink', 'cipa', 'cl1t', 'clit', 'clitoris', 'clits', 'cnut', 'cock', 'cock-sucker', 'cockface', 'cockhead', 'cockmunch', 'cockmuncher', 'cocks', 'cocksuck ', 'cocksucked ', 'cocksucker', 'cocksucking', 'cocksucks ', 'cocksuka', 'cocksukka', 'cok', 'cokmuncher', 'coksucka', 'coon', 'cox', 'crap', 'cum', 'cummer', 'cumming', 'cums', 'cumshot', 'cunilingus', 'cunillingus', 'cunnilingus', 'cunt', 'cuntlick ', 'cuntlicker ', 'cuntlicking ', 'cunts', 'cyalis', 'cyberfuc', 'cyberfuck ', 'cyberfucked ', 'cyberfucker', 'cyberfuckers', 'cyberfucking ', 'd1ck', 'damn', 'dick', 'dickhead', 'dildo', 'dildos', 'dink', 'dinks', 'dirsa', 'dlck', 'dog-fucker', 'doggin', 'dogging', 'donkeyribber', 'doosh', 'duche', 'dyke', 'ejaculate', 'ejaculated', 'ejaculates ', 'ejaculating ', 'ejaculatings', 'ejaculation', 'ejakulate', 'f u c k', 'f u c k e r', 'f4nny', 'fag', 'fagging', 'faggitt', 'faggot', 'faggs', 'fagot', 'fagots', 'fags', 'fanny', 'fannyflaps', 'fannyfucker', 'fanyy', 'fatass', 'fcuk', 'fcuker', 'fcuking', 'feck', 'fecker', 'felching', 'fellate', 'fellatio', 'fingerfuck ', 'fingerfucked ', 'fingerfucker ', 'fingerfuckers', 'fingerfucking ', 'fingerfucks ', 'fistfuck', 'fistfucked ', 'fistfucker ', 'fistfuckers ', 'fistfucking ', 'fistfuckings ', 'fistfucks ', 'flange', 'fook', 'fooker', 'fuck', 'fucka', 'fucked', 'fucker', 'fuckers', 'fuckhead', 'fuckheads', 'fuckin', 'fucking', 'fuckings', 'fuckingshitmotherfucker', 'fuckme ', 'fucks', 'fuckwhit', 'fuckwit', 'fudge packer', 'fudgepacker', 'fuk', 'fuker', 'fukker', 'fukkin', 'fuks', 'fukwhit', 'fukwit', 'fux', 'fux0r', 'f_u_c_k', 'gangbang', 'gangbanged ', 'gangbangs ', 'gaylord', 'gaysex', 'goatse', 'God', 'god-dam', 'god-damned', 'goddamn', 'goddamned', 'hardcoresex ', 'hell', 'heshe', 'hoar', 'hoare', 'hoer', 'homo', 'hore', 'horniest', 'horny', 'hotsex', 'jack-off ', 'jackoff', 'jap', 'jerk-off ', 'jism', 'jiz ', 'jizm ', 'jizz', 'kawk', 'knob', 'knobead', 'knobed', 'knobend', 'knobhead', 'knobjocky', 'knobjokey', 'kock', 'kondum', 'kondums', 'kum', 'kummer', 'kumming', 'kums', 'kunilingus', 'l3i+ch', 'l3itch', 'labia', 'lmfao', 'lust', 'lusting', 'm0f0', 'm0fo', 'm45terbate', 'ma5terb8', 'ma5terbate', 'masochist', 'master-bate', 'masterb8', 'masterbat*', 'masterbat3', 'masterbate', 'masterbation', 'masterbations', 'masturbate', 'mo-fo', 'mof0', 'mofo', 'mothafuck', 'mothafucka', 'mothafuckas', 'mothafuckaz', 'mothafucked ', 'mothafucker', 'mothafuckers', 'mothafuckin', 'mothafucking ', 'mothafuckings', 'mothafucks', 'mother fucker', 'motherfuck', 'motherfucked', 'motherfucker', 'motherfuckers', 'motherfuckin', 'motherfucking', 'motherfuckings', 'motherfuckka', 'motherfucks', 'muff', 'mutha', 'muthafecker', 'muthafuckker', 'muther', 'mutherfucker', 'n1gga', 'n1gger', 'nazi', 'nigg3r', 'nigg4h', 'nigga', 'niggah', 'niggas', 'niggaz', 'nigger', 'niggers ', 'nob', 'nob jokey', 'nobhead', 'nobjocky', 'nobjokey', 'numbnuts', 'nutsack', 'orgasim ', 'orgasims ', 'orgasm', 'orgasms ', 'p0rn', 'pawn', 'pecker', 'penis', 'penisfucker', 'phonesex', 'phuck', 'phuk', 'phuked', 'phuking', 'phukked', 'phukking', 'phuks', 'phuq', 'pigfucker', 'pimpis', 'piss', 'pissed', 'pisser', 'pissers', 'pisses ', 'pissflaps', 'pissin ', 'pissing', 'pissoff ', 'poop', 'porn', 'porno', 'pornography', 'pornos', 'prick', 'pricks ', 'pron', 'pube', 'pusse', 'pussi', 'pussies', 'pussy', 'pussys ', 'rectum', 'retard', 'rimjaw', 'rimming', 's hit', 's.o.b.', 'sadist', 'schlong', 'screwing', 'scroat', 'scrote', 'scrotum', 'semen', 'sex', 'sh!+', 'sh!t', 'sh1t', 'shag', 'shagger', 'shaggin', 'shagging', 'shemale', 'shi+', 'shit', 'shitdick', 'shite', 'shited', 'shitey', 'shitfuck', 'shitfull', 'shithead', 'shiting', 'shitings', 'shits', 'shitted', 'shitter', 'shitters ', 'shitting', 'shittings', 'shitty ', 'skank', 'slut', 'sluts', 'smegma', 'smut', 'snatch', 'son-of-a-bitch', 'spac', 'spunk', 's_h_i_t', 't1tt1e5', 't1tties', 'teets', 'teez', 'testical', 'testicle', 'tit', 'titfuck', 'tits', 'titt', 'tittie5', 'tittiefucker', 'titties', 'tittyfuck', 'tittywank', 'titwank', 'tosser', 'turd', 'tw4t', 'twat', 'twathead', 'twatty', 'twunt', 'twunter', 'v14gra', 'v1gra', 'vagina', 'viagra', 'vulva', 'w00se', 'wang', 'wank', 'wanker', 'wanky', 'whoar', 'whore', 'willies', 'willy', 'xrated', 'xxx']\n"
          ],
          "name": "stdout"
        }
      ]
    },
    {
      "cell_type": "code",
      "metadata": {
        "id": "l4qMv1bmg-gy",
        "outputId": "90ff3e24-6108-4213-a306-3e51a0e99eb9",
        "colab": {
          "base_uri": "https://localhost:8080/"
        }
      },
      "source": [
        "text = \"The 4r5e United States presidential election was the 59th quadrennial presidential election, held on Tuesday, November 3, 2020. Voters select presidential electors who in turn will vote on December 14, 2020, to either elect a new president and vice president or reelect the incumbents Donald Trump and Mike Pence, respectively.[3] The series of presidential primary elections and caucuses were held from February to August 2020. This nominating process is an indirect election, where voters cast ballots selecting a slate of delegates to a political party's nominating convention, who then elect their parties' nominees for president and vice president. The major two-party candidates are Republican incumbent President Donald Trump and Democratic former Vice President Joe Biden. The 2020 Senate elections and the 2020 House elections, along with various other local elections, are being held concurrently with the presidential election.\"\n",
        "\n",
        "def check_swear(s):\n",
        "  \"\"\"return number of swear word in given text\"\"\"\n",
        "  swear_word_present = [x for x in s.split() if x in swear_words]\n",
        "  return len(swear_word_present)\n",
        "\n",
        "print(check_swear(text))"
      ],
      "execution_count": 9,
      "outputs": [
        {
          "output_type": "stream",
          "text": [
            "1\n"
          ],
          "name": "stdout"
        }
      ]
    },
    {
      "cell_type": "markdown",
      "metadata": {
        "id": "SpjlSRNHhYHo"
      },
      "source": [
        "4. Using reduce functions: PTS:100\n",
        "\n",
        "4.1 add only even numbers in a list"
      ]
    },
    {
      "cell_type": "code",
      "metadata": {
        "id": "UDMAwwgGa-KR",
        "outputId": "b70155e6-e079-4cba-c77a-d9d29dc0d99d",
        "colab": {
          "base_uri": "https://localhost:8080/"
        }
      },
      "source": [
        "from functools import reduce\n",
        "def add_even(l):\n",
        "  return reduce(lambda a, b: a + b, list(filter(lambda x: x % 2 == 0, l)))\n",
        "\n",
        "print(add_even(range(6)))"
      ],
      "execution_count": 10,
      "outputs": [
        {
          "output_type": "stream",
          "text": [
            "6\n"
          ],
          "name": "stdout"
        }
      ]
    },
    {
      "cell_type": "markdown",
      "metadata": {
        "id": "We7k1ebZMv0C"
      },
      "source": [
        "4.2 find the biggest character in a string (printable ascii characters)"
      ]
    },
    {
      "cell_type": "code",
      "metadata": {
        "id": "quPBd3e5iMfE",
        "outputId": "454bf2aa-34bc-4e8b-ca23-ab8cacf1cb78",
        "colab": {
          "base_uri": "https://localhost:8080/"
        }
      },
      "source": [
        "def biggest(s):\n",
        "  return reduce(lambda a, b: max(a,b), s)\n",
        "\n",
        "print(biggest(\"ABCabz{\"))"
      ],
      "execution_count": 11,
      "outputs": [
        {
          "output_type": "stream",
          "text": [
            "{\n"
          ],
          "name": "stdout"
        }
      ]
    },
    {
      "cell_type": "markdown",
      "metadata": {
        "id": "o3NKRCmLM9UX"
      },
      "source": [
        "4.3. adds every 3rd number in a list"
      ]
    },
    {
      "cell_type": "code",
      "metadata": {
        "id": "iqPJEoguisJF",
        "outputId": "fbfaaa6f-9f35-4a50-f068-ee196f28d974",
        "colab": {
          "base_uri": "https://localhost:8080/"
        }
      },
      "source": [
        "def add_third(l):\n",
        "  print(l)\n",
        "  return reduce(lambda a, b: a + b, l[0::3]) # l[0::3] would get every 3rd element from list and reduce will add them\n",
        "\n",
        "print(add_even(range(7)))"
      ],
      "execution_count": 12,
      "outputs": [
        {
          "output_type": "stream",
          "text": [
            "12\n"
          ],
          "name": "stdout"
        }
      ]
    },
    {
      "cell_type": "markdown",
      "metadata": {
        "id": "6HdbPVQED4vN"
      },
      "source": [
        "5. Using randint, random.choice and list comprehensions, write an expression that generates 15 random KADDAADDDD number plates, where KA is fixed, D stands for a digit, and A stands for Capital alphabets. 10<<DD<<99 & 1000<<DDDD<<9999 PTS:100"
      ]
    },
    {
      "cell_type": "code",
      "metadata": {
        "id": "VibKY9dzjnht",
        "outputId": "3464bc89-8b3b-4a5c-8561-2da7f157346e",
        "colab": {
          "base_uri": "https://localhost:8080/"
        }
      },
      "source": [
        "import random\n",
        "import string\n",
        "\n",
        "def generate_num_plates():\n",
        "  \"\"\"function to generate number plate of form KADDAADDD\"\"\"\n",
        "  l2digits = random.randint(10,99) # 2 digit number\n",
        "  a2chars = [random.choice(string.ascii_uppercase) for _ in range(2)] #List of 2 character string\n",
        "  l4digits = random.randint(1000, 9999) # 4 digit number\n",
        "  plate  = 'KA'+str(l2digits)+\"\".join(x for x in a2chars)+str(l4digits) # append all to get the number plate\n",
        "  return plate\n",
        "\n",
        "for x in range(15):\n",
        "  print(generate_num_plates())\n"
      ],
      "execution_count": 13,
      "outputs": [
        {
          "output_type": "stream",
          "text": [
            "KA24CH8453\n",
            "KA87ZD5169\n",
            "KA84IC9206\n",
            "KA28LE9053\n",
            "KA40IT4163\n",
            "KA85CJ4560\n",
            "KA92PG8263\n",
            "KA43OV3051\n",
            "KA60ZO4754\n",
            "KA96YK6515\n",
            "KA29EZ7571\n",
            "KA72ZP1348\n",
            "KA40HW5788\n",
            "KA32PK3715\n",
            "KA89DO6789\n"
          ],
          "name": "stdout"
        }
      ]
    },
    {
      "cell_type": "markdown",
      "metadata": {
        "id": "q-odD57dH08L"
      },
      "source": [
        "6. Write the above again from scratch where KA can be changed to DL, and 1000/9999 ranges can be provided."
      ]
    },
    {
      "cell_type": "code",
      "metadata": {
        "id": "oNKTyfPdj7i6",
        "outputId": "898dee34-d5a8-41ed-ad2c-b8c7ebe69a53",
        "colab": {
          "base_uri": "https://localhost:8080/"
        }
      },
      "source": [
        "def generate_num_plates2(state = 'KA', num_start=1000, num_end=9999):\n",
        "  \"\"\"function to generate number plate of form KADDAADDD given state code, and number range\"\"\"\n",
        "  l2digits = random.randint(10,99) # 2 digit number\n",
        "  a2chars = [random.choice(string.ascii_uppercase) for _ in range(2)] #List of 2 character string\n",
        "  l4digits = random.randint(num_start, num_end) # number in given range\n",
        "  plate  = state+str(l2digits)+\"\".join(x for x in a2chars)+str(l4digits) # append all to get the number plate\n",
        "  return plate\n",
        "\n",
        "for x in range(15):\n",
        "  print(generate_num_plates2('DL', num_start=1))"
      ],
      "execution_count": 14,
      "outputs": [
        {
          "output_type": "stream",
          "text": [
            "DL62PN3876\n",
            "DL60IE8392\n",
            "DL34XP2477\n",
            "DL62RR3988\n",
            "DL56QF7252\n",
            "DL21GR4798\n",
            "DL67WL1689\n",
            "DL41ZY4786\n",
            "DL74NC3250\n",
            "DL70HJ3454\n",
            "DL20JV646\n",
            "DL48SO3422\n",
            "DL91CL3799\n",
            "DL17DY5236\n",
            "DL36TX1302\n"
          ],
          "name": "stdout"
        }
      ]
    },
    {
      "cell_type": "code",
      "metadata": {
        "id": "vyc-DhgIJNHa"
      },
      "source": [
        ""
      ],
      "execution_count": 14,
      "outputs": []
    }
  ]
}